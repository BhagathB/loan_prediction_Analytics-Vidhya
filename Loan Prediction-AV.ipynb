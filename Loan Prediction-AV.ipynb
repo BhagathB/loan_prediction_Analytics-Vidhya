{
 "cells": [
  {
   "cell_type": "code",
   "execution_count": 316,
   "metadata": {},
   "outputs": [],
   "source": [
    "import pandas as pd\n",
    "import numpy as np\n",
    "import matplotlib.pyplot as plt\n",
    "%matplotlib inline\n",
    "from sklearn.preprocessing import MinMaxScaler"
   ]
  },
  {
   "cell_type": "code",
   "execution_count": 407,
   "metadata": {},
   "outputs": [],
   "source": [
    "train = pd.read_csv('~/train_file.csv')\n",
    "test = pd.read_csv('~/test_file.csv')"
   ]
  },
  {
   "cell_type": "code",
   "execution_count": 408,
   "metadata": {},
   "outputs": [
    {
     "data": {
      "text/html": [
       "<div>\n",
       "<style scoped>\n",
       "    .dataframe tbody tr th:only-of-type {\n",
       "        vertical-align: middle;\n",
       "    }\n",
       "\n",
       "    .dataframe tbody tr th {\n",
       "        vertical-align: top;\n",
       "    }\n",
       "\n",
       "    .dataframe thead th {\n",
       "        text-align: right;\n",
       "    }\n",
       "</style>\n",
       "<table border=\"1\" class=\"dataframe\">\n",
       "  <thead>\n",
       "    <tr style=\"text-align: right;\">\n",
       "      <th></th>\n",
       "      <th>Loan_ID</th>\n",
       "      <th>Gender</th>\n",
       "      <th>Married</th>\n",
       "      <th>Dependents</th>\n",
       "      <th>Education</th>\n",
       "      <th>Self_Employed</th>\n",
       "      <th>ApplicantIncome</th>\n",
       "      <th>CoapplicantIncome</th>\n",
       "      <th>LoanAmount</th>\n",
       "      <th>Loan_Amount_Term</th>\n",
       "      <th>Credit_History</th>\n",
       "      <th>Property_Area</th>\n",
       "      <th>Loan_Status</th>\n",
       "    </tr>\n",
       "  </thead>\n",
       "  <tbody>\n",
       "    <tr>\n",
       "      <th>0</th>\n",
       "      <td>LP001002</td>\n",
       "      <td>Male</td>\n",
       "      <td>No</td>\n",
       "      <td>0</td>\n",
       "      <td>Graduate</td>\n",
       "      <td>No</td>\n",
       "      <td>5849</td>\n",
       "      <td>0.0</td>\n",
       "      <td>NaN</td>\n",
       "      <td>360.0</td>\n",
       "      <td>1.0</td>\n",
       "      <td>Urban</td>\n",
       "      <td>Y</td>\n",
       "    </tr>\n",
       "    <tr>\n",
       "      <th>1</th>\n",
       "      <td>LP001003</td>\n",
       "      <td>Male</td>\n",
       "      <td>Yes</td>\n",
       "      <td>1</td>\n",
       "      <td>Graduate</td>\n",
       "      <td>No</td>\n",
       "      <td>4583</td>\n",
       "      <td>1508.0</td>\n",
       "      <td>128.0</td>\n",
       "      <td>360.0</td>\n",
       "      <td>1.0</td>\n",
       "      <td>Rural</td>\n",
       "      <td>N</td>\n",
       "    </tr>\n",
       "    <tr>\n",
       "      <th>2</th>\n",
       "      <td>LP001005</td>\n",
       "      <td>Male</td>\n",
       "      <td>Yes</td>\n",
       "      <td>0</td>\n",
       "      <td>Graduate</td>\n",
       "      <td>Yes</td>\n",
       "      <td>3000</td>\n",
       "      <td>0.0</td>\n",
       "      <td>66.0</td>\n",
       "      <td>360.0</td>\n",
       "      <td>1.0</td>\n",
       "      <td>Urban</td>\n",
       "      <td>Y</td>\n",
       "    </tr>\n",
       "    <tr>\n",
       "      <th>3</th>\n",
       "      <td>LP001006</td>\n",
       "      <td>Male</td>\n",
       "      <td>Yes</td>\n",
       "      <td>0</td>\n",
       "      <td>Not Graduate</td>\n",
       "      <td>No</td>\n",
       "      <td>2583</td>\n",
       "      <td>2358.0</td>\n",
       "      <td>120.0</td>\n",
       "      <td>360.0</td>\n",
       "      <td>1.0</td>\n",
       "      <td>Urban</td>\n",
       "      <td>Y</td>\n",
       "    </tr>\n",
       "    <tr>\n",
       "      <th>4</th>\n",
       "      <td>LP001008</td>\n",
       "      <td>Male</td>\n",
       "      <td>No</td>\n",
       "      <td>0</td>\n",
       "      <td>Graduate</td>\n",
       "      <td>No</td>\n",
       "      <td>6000</td>\n",
       "      <td>0.0</td>\n",
       "      <td>141.0</td>\n",
       "      <td>360.0</td>\n",
       "      <td>1.0</td>\n",
       "      <td>Urban</td>\n",
       "      <td>Y</td>\n",
       "    </tr>\n",
       "  </tbody>\n",
       "</table>\n",
       "</div>"
      ],
      "text/plain": [
       "    Loan_ID Gender Married Dependents     Education Self_Employed  \\\n",
       "0  LP001002   Male      No          0      Graduate            No   \n",
       "1  LP001003   Male     Yes          1      Graduate            No   \n",
       "2  LP001005   Male     Yes          0      Graduate           Yes   \n",
       "3  LP001006   Male     Yes          0  Not Graduate            No   \n",
       "4  LP001008   Male      No          0      Graduate            No   \n",
       "\n",
       "   ApplicantIncome  CoapplicantIncome  LoanAmount  Loan_Amount_Term  \\\n",
       "0             5849                0.0         NaN             360.0   \n",
       "1             4583             1508.0       128.0             360.0   \n",
       "2             3000                0.0        66.0             360.0   \n",
       "3             2583             2358.0       120.0             360.0   \n",
       "4             6000                0.0       141.0             360.0   \n",
       "\n",
       "   Credit_History Property_Area Loan_Status  \n",
       "0             1.0         Urban           Y  \n",
       "1             1.0         Rural           N  \n",
       "2             1.0         Urban           Y  \n",
       "3             1.0         Urban           Y  \n",
       "4             1.0         Urban           Y  "
      ]
     },
     "execution_count": 408,
     "metadata": {},
     "output_type": "execute_result"
    }
   ],
   "source": [
    "train.head()"
   ]
  },
  {
   "cell_type": "code",
   "execution_count": 409,
   "metadata": {},
   "outputs": [
    {
     "data": {
      "text/html": [
       "<div>\n",
       "<style scoped>\n",
       "    .dataframe tbody tr th:only-of-type {\n",
       "        vertical-align: middle;\n",
       "    }\n",
       "\n",
       "    .dataframe tbody tr th {\n",
       "        vertical-align: top;\n",
       "    }\n",
       "\n",
       "    .dataframe thead th {\n",
       "        text-align: right;\n",
       "    }\n",
       "</style>\n",
       "<table border=\"1\" class=\"dataframe\">\n",
       "  <thead>\n",
       "    <tr style=\"text-align: right;\">\n",
       "      <th></th>\n",
       "      <th>Loan_ID</th>\n",
       "      <th>Gender</th>\n",
       "      <th>Married</th>\n",
       "      <th>Dependents</th>\n",
       "      <th>Education</th>\n",
       "      <th>Self_Employed</th>\n",
       "      <th>ApplicantIncome</th>\n",
       "      <th>CoapplicantIncome</th>\n",
       "      <th>LoanAmount</th>\n",
       "      <th>Loan_Amount_Term</th>\n",
       "      <th>Credit_History</th>\n",
       "      <th>Property_Area</th>\n",
       "    </tr>\n",
       "  </thead>\n",
       "  <tbody>\n",
       "    <tr>\n",
       "      <th>0</th>\n",
       "      <td>LP001015</td>\n",
       "      <td>Male</td>\n",
       "      <td>Yes</td>\n",
       "      <td>0</td>\n",
       "      <td>Graduate</td>\n",
       "      <td>No</td>\n",
       "      <td>5720</td>\n",
       "      <td>0</td>\n",
       "      <td>110.0</td>\n",
       "      <td>360.0</td>\n",
       "      <td>1.0</td>\n",
       "      <td>Urban</td>\n",
       "    </tr>\n",
       "    <tr>\n",
       "      <th>1</th>\n",
       "      <td>LP001022</td>\n",
       "      <td>Male</td>\n",
       "      <td>Yes</td>\n",
       "      <td>1</td>\n",
       "      <td>Graduate</td>\n",
       "      <td>No</td>\n",
       "      <td>3076</td>\n",
       "      <td>1500</td>\n",
       "      <td>126.0</td>\n",
       "      <td>360.0</td>\n",
       "      <td>1.0</td>\n",
       "      <td>Urban</td>\n",
       "    </tr>\n",
       "    <tr>\n",
       "      <th>2</th>\n",
       "      <td>LP001031</td>\n",
       "      <td>Male</td>\n",
       "      <td>Yes</td>\n",
       "      <td>2</td>\n",
       "      <td>Graduate</td>\n",
       "      <td>No</td>\n",
       "      <td>5000</td>\n",
       "      <td>1800</td>\n",
       "      <td>208.0</td>\n",
       "      <td>360.0</td>\n",
       "      <td>1.0</td>\n",
       "      <td>Urban</td>\n",
       "    </tr>\n",
       "    <tr>\n",
       "      <th>3</th>\n",
       "      <td>LP001035</td>\n",
       "      <td>Male</td>\n",
       "      <td>Yes</td>\n",
       "      <td>2</td>\n",
       "      <td>Graduate</td>\n",
       "      <td>No</td>\n",
       "      <td>2340</td>\n",
       "      <td>2546</td>\n",
       "      <td>100.0</td>\n",
       "      <td>360.0</td>\n",
       "      <td>NaN</td>\n",
       "      <td>Urban</td>\n",
       "    </tr>\n",
       "    <tr>\n",
       "      <th>4</th>\n",
       "      <td>LP001051</td>\n",
       "      <td>Male</td>\n",
       "      <td>No</td>\n",
       "      <td>0</td>\n",
       "      <td>Not Graduate</td>\n",
       "      <td>No</td>\n",
       "      <td>3276</td>\n",
       "      <td>0</td>\n",
       "      <td>78.0</td>\n",
       "      <td>360.0</td>\n",
       "      <td>1.0</td>\n",
       "      <td>Urban</td>\n",
       "    </tr>\n",
       "  </tbody>\n",
       "</table>\n",
       "</div>"
      ],
      "text/plain": [
       "    Loan_ID Gender Married Dependents     Education Self_Employed  \\\n",
       "0  LP001015   Male     Yes          0      Graduate            No   \n",
       "1  LP001022   Male     Yes          1      Graduate            No   \n",
       "2  LP001031   Male     Yes          2      Graduate            No   \n",
       "3  LP001035   Male     Yes          2      Graduate            No   \n",
       "4  LP001051   Male      No          0  Not Graduate            No   \n",
       "\n",
       "   ApplicantIncome  CoapplicantIncome  LoanAmount  Loan_Amount_Term  \\\n",
       "0             5720                  0       110.0             360.0   \n",
       "1             3076               1500       126.0             360.0   \n",
       "2             5000               1800       208.0             360.0   \n",
       "3             2340               2546       100.0             360.0   \n",
       "4             3276                  0        78.0             360.0   \n",
       "\n",
       "   Credit_History Property_Area  \n",
       "0             1.0         Urban  \n",
       "1             1.0         Urban  \n",
       "2             1.0         Urban  \n",
       "3             NaN         Urban  \n",
       "4             1.0         Urban  "
      ]
     },
     "execution_count": 409,
     "metadata": {},
     "output_type": "execute_result"
    }
   ],
   "source": [
    "test.head()"
   ]
  },
  {
   "cell_type": "code",
   "execution_count": 410,
   "metadata": {},
   "outputs": [
    {
     "data": {
      "text/plain": [
       "((614, 13), (367, 12))"
      ]
     },
     "execution_count": 410,
     "metadata": {},
     "output_type": "execute_result"
    }
   ],
   "source": [
    "train.shape, test.shape"
   ]
  },
  {
   "cell_type": "code",
   "execution_count": 411,
   "metadata": {},
   "outputs": [
    {
     "data": {
      "text/plain": [
       "Loan_ID               0\n",
       "Gender               13\n",
       "Married               3\n",
       "Dependents           15\n",
       "Education             0\n",
       "Self_Employed        32\n",
       "ApplicantIncome       0\n",
       "CoapplicantIncome     0\n",
       "LoanAmount           22\n",
       "Loan_Amount_Term     14\n",
       "Credit_History       50\n",
       "Property_Area         0\n",
       "Loan_Status           0\n",
       "dtype: int64"
      ]
     },
     "execution_count": 411,
     "metadata": {},
     "output_type": "execute_result"
    }
   ],
   "source": [
    "train.isnull().sum()"
   ]
  },
  {
   "cell_type": "code",
   "execution_count": 412,
   "metadata": {},
   "outputs": [
    {
     "data": {
      "text/plain": [
       "Loan_ID               0\n",
       "Gender               11\n",
       "Married               0\n",
       "Dependents           10\n",
       "Education             0\n",
       "Self_Employed        23\n",
       "ApplicantIncome       0\n",
       "CoapplicantIncome     0\n",
       "LoanAmount            5\n",
       "Loan_Amount_Term      6\n",
       "Credit_History       29\n",
       "Property_Area         0\n",
       "dtype: int64"
      ]
     },
     "execution_count": 412,
     "metadata": {},
     "output_type": "execute_result"
    }
   ],
   "source": [
    "test.isnull().sum()"
   ]
  },
  {
   "cell_type": "code",
   "execution_count": 413,
   "metadata": {},
   "outputs": [
    {
     "data": {
      "text/plain": [
       "Male      489\n",
       "Female    112\n",
       "Name: Gender, dtype: int64"
      ]
     },
     "execution_count": 413,
     "metadata": {},
     "output_type": "execute_result"
    }
   ],
   "source": [
    "train.Gender.value_counts()"
   ]
  },
  {
   "cell_type": "code",
   "execution_count": 414,
   "metadata": {},
   "outputs": [
    {
     "data": {
      "text/plain": [
       "Yes    398\n",
       "No     213\n",
       "Name: Married, dtype: int64"
      ]
     },
     "execution_count": 414,
     "metadata": {},
     "output_type": "execute_result"
    }
   ],
   "source": [
    "train.Married.value_counts()"
   ]
  },
  {
   "cell_type": "code",
   "execution_count": 415,
   "metadata": {},
   "outputs": [
    {
     "data": {
      "text/plain": [
       "0     345\n",
       "1     102\n",
       "2     101\n",
       "3+     51\n",
       "Name: Dependents, dtype: int64"
      ]
     },
     "execution_count": 415,
     "metadata": {},
     "output_type": "execute_result"
    }
   ],
   "source": [
    "train.Dependents.value_counts()"
   ]
  },
  {
   "cell_type": "code",
   "execution_count": 416,
   "metadata": {},
   "outputs": [
    {
     "data": {
      "text/plain": [
       "No     500\n",
       "Yes     82\n",
       "Name: Self_Employed, dtype: int64"
      ]
     },
     "execution_count": 416,
     "metadata": {},
     "output_type": "execute_result"
    }
   ],
   "source": [
    "train.Self_Employed.value_counts()"
   ]
  },
  {
   "cell_type": "code",
   "execution_count": 417,
   "metadata": {},
   "outputs": [],
   "source": [
    "def data_preprocess(train_df, test_df):\n",
    "    '''\n",
    "    This function is used to preprocess the data befor it is feed to modeling\n",
    "    \n",
    "    Args:\n",
    "        train_df: Train data to be processed(type:DataFrame)\n",
    "        test_df: Test data to be processed(type:DataFrame) \n",
    "    \n",
    "    Returns: Returns Processed Train, Test along with the Status\n",
    "    '''\n",
    "    \n",
    "    Status = train_df['Loan_Status']\n",
    "    Status = [0 if x in ['N']\n",
    "             else 1 for x in Status]\n",
    "    \n",
    "    train_df.drop('Loan_Status', axis=1, inplace=True)\n",
    "    entire_df =  train_df.append(test_df)\n",
    "    \n",
    "    #filling NA's with mode of Gender\n",
    "    entire_df.Gender = [1 if x in ['Male']\n",
    "                       else 0 if x in ['Female']\n",
    "                       else 1 for x in entire_df.Gender]\n",
    "    \n",
    "    #filling NA's with mode of Married status\n",
    "    entire_df.Married = [0 if x in ['No']\n",
    "                       else 1 if x in ['Yes']\n",
    "                       else 1 for x in entire_df.Married]\n",
    "    \n",
    "    #filling NA's with mode of Self_Employed\n",
    "    entire_df.Self_Employed = [0 if x in ['No']\n",
    "                       else 1 if x in ['Yes']\n",
    "                       else 0 for x in entire_df.Self_Employed]\n",
    "    \n",
    "    #Imputing NA's with Median(), since Mean() gets a hit with outliers.\n",
    "    entire_df.LoanAmount.fillna(entire_df.LoanAmount.median(), inplace=True)\n",
    "    \n",
    "    #I don't prefer imputing the credit history as this completely depends on users history. \n",
    "    entire_df.Credit_History = [\"credit_history_0\" if x in [0]\n",
    "                       else \"credit_history_1\" if x in [1]\n",
    "                       else \"credit_history_unknown\" for x in entire_df.Credit_History]\n",
    "    \n",
    "    entire_df.Education = [1 if x in ['Graduate']\n",
    "                       else 0 for x in entire_df.Education]\n",
    "    entire_df.dti = (entire_df.ApplicantIncome + entire_df.CoapplicantIncome)/entire_df.LoanAmount\n",
    "    \n",
    "    entire_df.Dependents = [\"Single\" if x in ['0']\n",
    "                            else \"micro_family\" if x in ['1']\n",
    "                            else \"mini_family\" if x in ['2']\n",
    "                            else \"macro_family\" if x in ['3+']\n",
    "                            else \"unknow_family\" for x in entire_df.Dependents]\n",
    "    \n",
    "    entire_df.Loan_Amount_Term = ['le5' if x<=60\n",
    "                                else \"5-15\" if x>60 and x<=180 \n",
    "                                else \"15-25\" if x>180 and x<=300  \n",
    "                                else \"gt25\" for x in entire_df.Loan_Amount_Term]\n",
    "    \n",
    "    \n",
    "    #Preparing dummies for caegorical variables\n",
    "    entire_df = pd.get_dummies(entire_df, columns=['Loan_Amount_Term','Dependents','Credit_History','Property_Area'])\n",
    "    \n",
    "    entire_df = entire_df.set_index('Loan_ID')\n",
    "    #scaling continuous variables\n",
    "    scaler = MinMaxScaler()\n",
    "    entire_final_df = pd.DataFrame(scaler.fit_transform(entire_df), columns=entire_df.columns)\n",
    "    \n",
    "    train_data = entire_final_df.iloc[:614,:]\n",
    "    test_data = entire_final_df.iloc[614:,:]\n",
    "    \n",
    "    return train_data, test_data, Status\n",
    "    "
   ]
  },
  {
   "cell_type": "code",
   "execution_count": 418,
   "metadata": {},
   "outputs": [
    {
     "name": "stderr",
     "output_type": "stream",
     "text": [
      "E:\\Softwares\\lib\\site-packages\\ipykernel_launcher.py:44: UserWarning: Pandas doesn't allow columns to be created via a new attribute name - see https://pandas.pydata.org/pandas-docs/stable/indexing.html#attribute-access\n"
     ]
    }
   ],
   "source": [
    "train_set, test_set, y_train= data_preprocess(train,test)"
   ]
  },
  {
   "cell_type": "code",
   "execution_count": 419,
   "metadata": {},
   "outputs": [
    {
     "data": {
      "text/plain": [
       "((614, 22), (367, 22))"
      ]
     },
     "execution_count": 419,
     "metadata": {},
     "output_type": "execute_result"
    }
   ],
   "source": [
    "train_set.shape, test_set.shape"
   ]
  },
  {
   "cell_type": "code",
   "execution_count": 420,
   "metadata": {},
   "outputs": [],
   "source": [
    "from sklearn.model_selection import train_test_split\n",
    "from sklearn.metrics import roc_curve, log_loss, auc"
   ]
  },
  {
   "cell_type": "code",
   "execution_count": 430,
   "metadata": {},
   "outputs": [],
   "source": [
    "import xgboost as xgb\n",
    "xgb_model = xgb.XGBClassifier(booster='gbtree', colsample_bylevel=1,\n",
    "       colsample_bytree=1, gamma=0, learning_rate=0.01, max_delta_step=0,\n",
    "       max_depth=1, min_child_weight=1, missing=None, n_estimators=50,\n",
    "       n_jobs=1, nthread=None, objective='binary:logistic', random_state=10,\n",
    "       reg_alpha=0, reg_lambda=1, scale_pos_weight=1, seed=24,\n",
    "       silent=True)"
   ]
  },
  {
   "cell_type": "code",
   "execution_count": 431,
   "metadata": {},
   "outputs": [
    {
     "data": {
      "text/plain": [
       "XGBClassifier(base_score=0.5, booster='gbtree', colsample_bylevel=1,\n",
       "       colsample_bytree=1, gamma=0, learning_rate=0.01, max_delta_step=0,\n",
       "       max_depth=1, min_child_weight=1, missing=None, n_estimators=50,\n",
       "       n_jobs=1, nthread=None, objective='binary:logistic',\n",
       "       random_state=10, reg_alpha=0, reg_lambda=1, scale_pos_weight=1,\n",
       "       seed=24, silent=True, subsample=1)"
      ]
     },
     "execution_count": 431,
     "metadata": {},
     "output_type": "execute_result"
    }
   ],
   "source": [
    "xgb_model.fit(train_set, y_train)"
   ]
  },
  {
   "cell_type": "code",
   "execution_count": 432,
   "metadata": {},
   "outputs": [
    {
     "name": "stderr",
     "output_type": "stream",
     "text": [
      "E:\\Softwares\\lib\\site-packages\\sklearn\\preprocessing\\label.py:151: DeprecationWarning: The truth value of an empty array is ambiguous. Returning False, but in future this will result in an error. Use `array.size > 0` to check that an array is not empty.\n",
      "  if diff:\n"
     ]
    },
    {
     "data": {
      "text/plain": [
       "0.8094462540716613"
      ]
     },
     "execution_count": 432,
     "metadata": {},
     "output_type": "execute_result"
    }
   ],
   "source": [
    "xgb_model.score(train_set,y_train)"
   ]
  },
  {
   "cell_type": "code",
   "execution_count": 434,
   "metadata": {},
   "outputs": [
    {
     "name": "stderr",
     "output_type": "stream",
     "text": [
      "E:\\Softwares\\lib\\site-packages\\sklearn\\preprocessing\\label.py:151: DeprecationWarning: The truth value of an empty array is ambiguous. Returning False, but in future this will result in an error. Use `array.size > 0` to check that an array is not empty.\n",
      "  if diff:\n"
     ]
    }
   ],
   "source": [
    "submission_file = pd.DataFrame()\n",
    "submission_file['Loan_ID']=test['Loan_ID']\n",
    "submission_file['Loan_Status']=xgb_model.predict(test_set)"
   ]
  },
  {
   "cell_type": "code",
   "execution_count": 435,
   "metadata": {},
   "outputs": [],
   "source": [
    "submission_file['Loan_Status_mod'] = ['Y' if x in [1]\n",
    "                                     else 'N' for x in submission_file['Loan_Status']]"
   ]
  },
  {
   "cell_type": "code",
   "execution_count": 436,
   "metadata": {},
   "outputs": [],
   "source": [
    "submission_final = submission_file[['Loan_ID','Loan_Status_mod']]"
   ]
  },
  {
   "cell_type": "code",
   "execution_count": 437,
   "metadata": {},
   "outputs": [],
   "source": [
    "submission_final.columns = ['Loan_ID','Loan_Status']"
   ]
  },
  {
   "cell_type": "code",
   "execution_count": 438,
   "metadata": {},
   "outputs": [
    {
     "data": {
      "text/html": [
       "<div>\n",
       "<style scoped>\n",
       "    .dataframe tbody tr th:only-of-type {\n",
       "        vertical-align: middle;\n",
       "    }\n",
       "\n",
       "    .dataframe tbody tr th {\n",
       "        vertical-align: top;\n",
       "    }\n",
       "\n",
       "    .dataframe thead th {\n",
       "        text-align: right;\n",
       "    }\n",
       "</style>\n",
       "<table border=\"1\" class=\"dataframe\">\n",
       "  <thead>\n",
       "    <tr style=\"text-align: right;\">\n",
       "      <th></th>\n",
       "      <th>Loan_ID</th>\n",
       "      <th>Loan_Status</th>\n",
       "    </tr>\n",
       "  </thead>\n",
       "  <tbody>\n",
       "    <tr>\n",
       "      <th>0</th>\n",
       "      <td>LP001015</td>\n",
       "      <td>Y</td>\n",
       "    </tr>\n",
       "    <tr>\n",
       "      <th>1</th>\n",
       "      <td>LP001022</td>\n",
       "      <td>Y</td>\n",
       "    </tr>\n",
       "    <tr>\n",
       "      <th>2</th>\n",
       "      <td>LP001031</td>\n",
       "      <td>Y</td>\n",
       "    </tr>\n",
       "    <tr>\n",
       "      <th>3</th>\n",
       "      <td>LP001035</td>\n",
       "      <td>Y</td>\n",
       "    </tr>\n",
       "    <tr>\n",
       "      <th>4</th>\n",
       "      <td>LP001051</td>\n",
       "      <td>Y</td>\n",
       "    </tr>\n",
       "  </tbody>\n",
       "</table>\n",
       "</div>"
      ],
      "text/plain": [
       "    Loan_ID Loan_Status\n",
       "0  LP001015           Y\n",
       "1  LP001022           Y\n",
       "2  LP001031           Y\n",
       "3  LP001035           Y\n",
       "4  LP001051           Y"
      ]
     },
     "execution_count": 438,
     "metadata": {},
     "output_type": "execute_result"
    }
   ],
   "source": [
    "submission_final.head()"
   ]
  },
  {
   "cell_type": "code",
   "execution_count": 439,
   "metadata": {},
   "outputs": [],
   "source": [
    "submission_final.to_csv('submission_file_26Sep.csv',index=False)"
   ]
  },
  {
   "cell_type": "code",
   "execution_count": 440,
   "metadata": {},
   "outputs": [
    {
     "data": {
      "text/plain": [
       "'C:\\\\Users\\\\Saleha Sayyad'"
      ]
     },
     "execution_count": 440,
     "metadata": {},
     "output_type": "execute_result"
    }
   ],
   "source": [
    "%pwd"
   ]
  },
  {
   "cell_type": "markdown",
   "metadata": {},
   "source": [
    "#### Modeling with entire train data"
   ]
  },
  {
   "cell_type": "code",
   "execution_count": null,
   "metadata": {},
   "outputs": [],
   "source": [
    "xgb_final = xgb_model.fit(final_train_data, y)"
   ]
  },
  {
   "cell_type": "code",
   "execution_count": null,
   "metadata": {},
   "outputs": [],
   "source": [
    "xgb_final.predict(final_test_data)"
   ]
  },
  {
   "cell_type": "code",
   "execution_count": null,
   "metadata": {},
   "outputs": [],
   "source": [
    "xgb_final.score(final_train_data, y)"
   ]
  },
  {
   "cell_type": "code",
   "execution_count": null,
   "metadata": {},
   "outputs": [],
   "source": [
    "submission_file_new = pd.DataFrame()\n",
    "submission_file_new['Loan_ID']=test_file['Loan_ID']\n",
    "submission_file_new['Loan_Status']=xgb_model.predict(final_test_data)"
   ]
  },
  {
   "cell_type": "code",
   "execution_count": null,
   "metadata": {},
   "outputs": [],
   "source": [
    "submission_file_new['Loan_Status_mod'] = ['Y' if x in [1]\n",
    "                                     else 'N' for x in submission_file_new['Loan_Status']]"
   ]
  },
  {
   "cell_type": "code",
   "execution_count": null,
   "metadata": {},
   "outputs": [],
   "source": [
    "submission_file_new = submission_file_new[['Loan_ID','Loan_Status_mod']]\n",
    "submission_file_new.columns = ['Loan_ID','Loan_Status']"
   ]
  },
  {
   "cell_type": "code",
   "execution_count": null,
   "metadata": {},
   "outputs": [],
   "source": [
    "submission_file_new.to_csv('submission_file_SEP25_xgb_1.csv',index=False)"
   ]
  },
  {
   "cell_type": "code",
   "execution_count": null,
   "metadata": {},
   "outputs": [],
   "source": [
    "submission_file_check['v2'] = submission_file_new.Loan_Status"
   ]
  },
  {
   "cell_type": "markdown",
   "metadata": {},
   "source": [
    "#### Neural Net"
   ]
  },
  {
   "cell_type": "code",
   "execution_count": 516,
   "metadata": {},
   "outputs": [],
   "source": [
    "from sklearn.preprocessing import StandardScaler\n",
    "sc = StandardScaler()\n",
    "X_train = sc.fit_transform(X_train)\n",
    "X_test = sc.transform(X_test)"
   ]
  },
  {
   "cell_type": "code",
   "execution_count": 547,
   "metadata": {},
   "outputs": [],
   "source": [
    "import keras\n",
    "from keras.models import Sequential\n",
    "from keras.layers import Dense\n",
    "from keras.layers import Dropout\n",
    "from keras.wrappers.scikit_learn import KerasClassifier\n",
    "from keras.constraints import maxnorm\n",
    "from keras.optimizers import SGD"
   ]
  },
  {
   "cell_type": "code",
   "execution_count": 552,
   "metadata": {},
   "outputs": [
    {
     "name": "stderr",
     "output_type": "stream",
     "text": [
      "D:\\anaconda\\lib\\site-packages\\ipykernel_launcher.py:3: UserWarning: Update your `Dense` call to the Keras 2 API: `Dense(units=64, activation=\"relu\", input_dim=15, kernel_initializer=\"uniform\")`\n",
      "  This is separate from the ipykernel package so we can avoid doing imports until\n",
      "D:\\anaconda\\lib\\site-packages\\ipykernel_launcher.py:6: UserWarning: Update your `Dense` call to the Keras 2 API: `Dense(units=64, activation=\"relu\", kernel_initializer=\"uniform\")`\n",
      "  \n",
      "D:\\anaconda\\lib\\site-packages\\ipykernel_launcher.py:9: UserWarning: Update your `Dense` call to the Keras 2 API: `Dense(units=1, activation=\"sigmoid\", kernel_initializer=\"uniform\")`\n",
      "  if __name__ == '__main__':\n"
     ]
    }
   ],
   "source": [
    "classifier = Sequential()\n",
    "# Adding the input layer and the first hidden layer\n",
    "classifier.add(Dense(units = 64, init = 'uniform', activation = 'relu', input_dim = X_train.shape[1]))\n",
    "# Adding the second hidden layer\n",
    "classifier.add(Dropout(0.2))\n",
    "classifier.add(Dense(units = 64, init = 'uniform', activation = 'relu'))\n",
    "classifier.add(Dropout(0.2))\n",
    "# Adding the output layer\n",
    "classifier.add(Dense(units = 1, init = 'uniform', activation = 'sigmoid'))"
   ]
  },
  {
   "cell_type": "code",
   "execution_count": 553,
   "metadata": {},
   "outputs": [],
   "source": [
    "sgd = SGD(lr=0.01, momentum=0.8, decay=0.0, nesterov=False)"
   ]
  },
  {
   "cell_type": "code",
   "execution_count": 554,
   "metadata": {},
   "outputs": [],
   "source": [
    "# Compiling Neural Network\n",
    "classifier.compile(optimizer = sgd, loss = 'binary_crossentropy', metrics = ['accuracy'])"
   ]
  },
  {
   "cell_type": "code",
   "execution_count": 561,
   "metadata": {},
   "outputs": [
    {
     "name": "stdout",
     "output_type": "stream",
     "text": [
      "Train on 491 samples, validate on 123 samples\n",
      "Epoch 1/100\n",
      "491/491 [==============================] - 0s 61us/step - loss: 0.3565 - acc: 0.8391 - val_loss: 0.5631 - val_acc: 0.7561\n",
      "Epoch 2/100\n",
      "491/491 [==============================] - 0s 63us/step - loss: 0.3670 - acc: 0.8452 - val_loss: 0.5614 - val_acc: 0.7561\n",
      "Epoch 3/100\n",
      "491/491 [==============================] - 0s 86us/step - loss: 0.3714 - acc: 0.8493 - val_loss: 0.5575 - val_acc: 0.7561\n",
      "Epoch 4/100\n",
      "491/491 [==============================] - 0s 69us/step - loss: 0.3438 - acc: 0.8432 - val_loss: 0.5583 - val_acc: 0.7561\n",
      "Epoch 5/100\n",
      "491/491 [==============================] - 0s 55us/step - loss: 0.3536 - acc: 0.8574 - val_loss: 0.5507 - val_acc: 0.7642\n",
      "Epoch 6/100\n",
      "491/491 [==============================] - 0s 67us/step - loss: 0.3472 - acc: 0.8554 - val_loss: 0.5540 - val_acc: 0.7642\n",
      "Epoch 7/100\n",
      "491/491 [==============================] - 0s 55us/step - loss: 0.3590 - acc: 0.8411 - val_loss: 0.5506 - val_acc: 0.7561\n",
      "Epoch 8/100\n",
      "491/491 [==============================] - 0s 65us/step - loss: 0.3482 - acc: 0.8554 - val_loss: 0.5611 - val_acc: 0.7642\n",
      "Epoch 9/100\n",
      "491/491 [==============================] - 0s 59us/step - loss: 0.3606 - acc: 0.8391 - val_loss: 0.5662 - val_acc: 0.7561\n",
      "Epoch 10/100\n",
      "491/491 [==============================] - 0s 59us/step - loss: 0.3580 - acc: 0.8473 - val_loss: 0.5576 - val_acc: 0.7561\n",
      "Epoch 11/100\n",
      "491/491 [==============================] - 0s 69us/step - loss: 0.3500 - acc: 0.8432 - val_loss: 0.5622 - val_acc: 0.7561\n",
      "Epoch 12/100\n",
      "491/491 [==============================] - 0s 51us/step - loss: 0.3493 - acc: 0.8432 - val_loss: 0.5555 - val_acc: 0.7480\n",
      "Epoch 13/100\n",
      "491/491 [==============================] - 0s 61us/step - loss: 0.3618 - acc: 0.8493 - val_loss: 0.5626 - val_acc: 0.7561\n",
      "Epoch 14/100\n",
      "491/491 [==============================] - 0s 55us/step - loss: 0.3473 - acc: 0.8452 - val_loss: 0.5653 - val_acc: 0.7561\n",
      "Epoch 15/100\n",
      "491/491 [==============================] - 0s 71us/step - loss: 0.3530 - acc: 0.8452 - val_loss: 0.5692 - val_acc: 0.7642\n",
      "Epoch 16/100\n",
      "491/491 [==============================] - 0s 63us/step - loss: 0.3489 - acc: 0.8473 - val_loss: 0.5551 - val_acc: 0.7480\n",
      "Epoch 17/100\n",
      "491/491 [==============================] - 0s 59us/step - loss: 0.3597 - acc: 0.8411 - val_loss: 0.5678 - val_acc: 0.7561\n",
      "Epoch 18/100\n",
      "491/491 [==============================] - 0s 65us/step - loss: 0.3560 - acc: 0.8554 - val_loss: 0.5672 - val_acc: 0.7642\n",
      "Epoch 19/100\n",
      "491/491 [==============================] - 0s 69us/step - loss: 0.3436 - acc: 0.8432 - val_loss: 0.5589 - val_acc: 0.7398\n",
      "Epoch 20/100\n",
      "491/491 [==============================] - 0s 67us/step - loss: 0.3487 - acc: 0.8574 - val_loss: 0.5595 - val_acc: 0.7561\n",
      "Epoch 21/100\n",
      "491/491 [==============================] - 0s 67us/step - loss: 0.3630 - acc: 0.8371 - val_loss: 0.5604 - val_acc: 0.7642\n",
      "Epoch 22/100\n",
      "491/491 [==============================] - 0s 63us/step - loss: 0.3363 - acc: 0.8432 - val_loss: 0.5636 - val_acc: 0.7642\n",
      "Epoch 23/100\n",
      "491/491 [==============================] - 0s 61us/step - loss: 0.3623 - acc: 0.8513 - val_loss: 0.5634 - val_acc: 0.7724\n",
      "Epoch 24/100\n",
      "491/491 [==============================] - 0s 63us/step - loss: 0.3509 - acc: 0.8534 - val_loss: 0.5664 - val_acc: 0.7642\n",
      "Epoch 25/100\n",
      "491/491 [==============================] - 0s 61us/step - loss: 0.3429 - acc: 0.8635 - val_loss: 0.5634 - val_acc: 0.7398\n",
      "Epoch 26/100\n",
      "491/491 [==============================] - 0s 61us/step - loss: 0.3392 - acc: 0.8676 - val_loss: 0.5672 - val_acc: 0.7561\n",
      "Epoch 27/100\n",
      "491/491 [==============================] - 0s 61us/step - loss: 0.3558 - acc: 0.8452 - val_loss: 0.5583 - val_acc: 0.7642\n",
      "Epoch 28/100\n",
      "491/491 [==============================] - 0s 63us/step - loss: 0.3380 - acc: 0.8534 - val_loss: 0.5514 - val_acc: 0.7561\n",
      "Epoch 29/100\n",
      "491/491 [==============================] - 0s 55us/step - loss: 0.3614 - acc: 0.8452 - val_loss: 0.5555 - val_acc: 0.7561\n",
      "Epoch 30/100\n",
      "491/491 [==============================] - 0s 63us/step - loss: 0.3277 - acc: 0.8656 - val_loss: 0.5622 - val_acc: 0.7561\n",
      "Epoch 31/100\n",
      "491/491 [==============================] - 0s 61us/step - loss: 0.3260 - acc: 0.8411 - val_loss: 0.5661 - val_acc: 0.7561\n",
      "Epoch 32/100\n",
      "491/491 [==============================] - 0s 65us/step - loss: 0.3388 - acc: 0.8595 - val_loss: 0.5632 - val_acc: 0.7642\n",
      "Epoch 33/100\n",
      "491/491 [==============================] - 0s 53us/step - loss: 0.3534 - acc: 0.8513 - val_loss: 0.5723 - val_acc: 0.7561\n",
      "Epoch 34/100\n",
      "491/491 [==============================] - 0s 55us/step - loss: 0.3480 - acc: 0.8452 - val_loss: 0.5626 - val_acc: 0.7480\n",
      "Epoch 35/100\n",
      "491/491 [==============================] - 0s 67us/step - loss: 0.3440 - acc: 0.8534 - val_loss: 0.5666 - val_acc: 0.7724\n",
      "Epoch 36/100\n",
      "491/491 [==============================] - 0s 61us/step - loss: 0.3344 - acc: 0.8615 - val_loss: 0.5675 - val_acc: 0.7561\n",
      "Epoch 37/100\n",
      "491/491 [==============================] - 0s 71us/step - loss: 0.3464 - acc: 0.8554 - val_loss: 0.5720 - val_acc: 0.7642\n",
      "Epoch 38/100\n",
      "491/491 [==============================] - 0s 84us/step - loss: 0.3494 - acc: 0.8452 - val_loss: 0.5655 - val_acc: 0.7642\n",
      "Epoch 39/100\n",
      "491/491 [==============================] - 0s 79us/step - loss: 0.3381 - acc: 0.8452 - val_loss: 0.5626 - val_acc: 0.7561\n",
      "Epoch 40/100\n",
      "491/491 [==============================] - 0s 61us/step - loss: 0.3315 - acc: 0.8473 - val_loss: 0.5593 - val_acc: 0.7561\n",
      "Epoch 41/100\n",
      "491/491 [==============================] - 0s 61us/step - loss: 0.3448 - acc: 0.8534 - val_loss: 0.5626 - val_acc: 0.7724\n",
      "Epoch 42/100\n",
      "491/491 [==============================] - 0s 59us/step - loss: 0.3364 - acc: 0.8574 - val_loss: 0.5677 - val_acc: 0.7642\n",
      "Epoch 43/100\n",
      "491/491 [==============================] - 0s 61us/step - loss: 0.3468 - acc: 0.8595 - val_loss: 0.5656 - val_acc: 0.7642\n",
      "Epoch 44/100\n",
      "491/491 [==============================] - 0s 71us/step - loss: 0.3311 - acc: 0.8676 - val_loss: 0.5702 - val_acc: 0.7642\n",
      "Epoch 45/100\n",
      "491/491 [==============================] - 0s 59us/step - loss: 0.3559 - acc: 0.8411 - val_loss: 0.5773 - val_acc: 0.7642\n",
      "Epoch 46/100\n",
      "491/491 [==============================] - 0s 67us/step - loss: 0.3531 - acc: 0.8310 - val_loss: 0.5645 - val_acc: 0.7398\n",
      "Epoch 47/100\n",
      "491/491 [==============================] - 0s 61us/step - loss: 0.3397 - acc: 0.8554 - val_loss: 0.5655 - val_acc: 0.7805\n",
      "Epoch 48/100\n",
      "491/491 [==============================] - 0s 57us/step - loss: 0.3608 - acc: 0.8432 - val_loss: 0.5639 - val_acc: 0.7642\n",
      "Epoch 49/100\n",
      "491/491 [==============================] - 0s 55us/step - loss: 0.3411 - acc: 0.8452 - val_loss: 0.5647 - val_acc: 0.7480\n",
      "Epoch 50/100\n",
      "491/491 [==============================] - 0s 57us/step - loss: 0.3203 - acc: 0.8574 - val_loss: 0.5716 - val_acc: 0.7480\n",
      "Epoch 51/100\n",
      "491/491 [==============================] - 0s 57us/step - loss: 0.3487 - acc: 0.8656 - val_loss: 0.5783 - val_acc: 0.7561\n",
      "Epoch 52/100\n",
      "491/491 [==============================] - 0s 61us/step - loss: 0.3468 - acc: 0.8411 - val_loss: 0.5695 - val_acc: 0.7480\n",
      "Epoch 53/100\n",
      "491/491 [==============================] - 0s 55us/step - loss: 0.3289 - acc: 0.8656 - val_loss: 0.5641 - val_acc: 0.7398\n",
      "Epoch 54/100\n",
      "491/491 [==============================] - 0s 55us/step - loss: 0.3355 - acc: 0.8473 - val_loss: 0.5773 - val_acc: 0.7561\n",
      "Epoch 55/100\n",
      "491/491 [==============================] - 0s 59us/step - loss: 0.3363 - acc: 0.8554 - val_loss: 0.5797 - val_acc: 0.7642\n",
      "Epoch 56/100\n",
      "491/491 [==============================] - 0s 61us/step - loss: 0.3248 - acc: 0.8595 - val_loss: 0.5682 - val_acc: 0.7642\n",
      "Epoch 57/100\n",
      "491/491 [==============================] - 0s 61us/step - loss: 0.3312 - acc: 0.8656 - val_loss: 0.5773 - val_acc: 0.7561\n",
      "Epoch 58/100\n",
      "491/491 [==============================] - 0s 65us/step - loss: 0.3491 - acc: 0.8350 - val_loss: 0.5686 - val_acc: 0.7561\n",
      "Epoch 59/100\n",
      "491/491 [==============================] - 0s 57us/step - loss: 0.3236 - acc: 0.8615 - val_loss: 0.5613 - val_acc: 0.7480\n",
      "Epoch 60/100\n",
      "491/491 [==============================] - 0s 63us/step - loss: 0.3327 - acc: 0.8432 - val_loss: 0.5658 - val_acc: 0.7480\n",
      "Epoch 61/100\n",
      "491/491 [==============================] - 0s 61us/step - loss: 0.3473 - acc: 0.8452 - val_loss: 0.5708 - val_acc: 0.7561\n",
      "Epoch 62/100\n",
      "491/491 [==============================] - 0s 55us/step - loss: 0.3288 - acc: 0.8615 - val_loss: 0.5721 - val_acc: 0.7561\n",
      "Epoch 63/100\n",
      "491/491 [==============================] - 0s 53us/step - loss: 0.3072 - acc: 0.8819 - val_loss: 0.5753 - val_acc: 0.7561\n",
      "Epoch 64/100\n",
      "491/491 [==============================] - 0s 71us/step - loss: 0.3186 - acc: 0.8574 - val_loss: 0.5816 - val_acc: 0.7561\n",
      "Epoch 65/100\n",
      "491/491 [==============================] - 0s 61us/step - loss: 0.3403 - acc: 0.8513 - val_loss: 0.5758 - val_acc: 0.7561\n",
      "Epoch 66/100\n",
      "491/491 [==============================] - 0s 57us/step - loss: 0.3345 - acc: 0.8676 - val_loss: 0.5774 - val_acc: 0.7561\n",
      "Epoch 67/100\n",
      "491/491 [==============================] - 0s 73us/step - loss: 0.3272 - acc: 0.8574 - val_loss: 0.5857 - val_acc: 0.7642\n",
      "Epoch 68/100\n",
      "491/491 [==============================] - 0s 53us/step - loss: 0.3308 - acc: 0.8615 - val_loss: 0.5851 - val_acc: 0.7642\n",
      "Epoch 69/100\n",
      "491/491 [==============================] - 0s 61us/step - loss: 0.3109 - acc: 0.8676 - val_loss: 0.5916 - val_acc: 0.7480\n",
      "Epoch 70/100\n",
      "491/491 [==============================] - 0s 59us/step - loss: 0.3411 - acc: 0.8371 - val_loss: 0.5795 - val_acc: 0.7561\n",
      "Epoch 71/100\n",
      "491/491 [==============================] - 0s 55us/step - loss: 0.3372 - acc: 0.8554 - val_loss: 0.5869 - val_acc: 0.7642\n",
      "Epoch 72/100\n",
      "491/491 [==============================] - 0s 55us/step - loss: 0.3211 - acc: 0.8635 - val_loss: 0.5872 - val_acc: 0.7561\n",
      "Epoch 73/100\n",
      "491/491 [==============================] - 0s 55us/step - loss: 0.3203 - acc: 0.8595 - val_loss: 0.5876 - val_acc: 0.7561\n",
      "Epoch 74/100\n",
      "491/491 [==============================] - 0s 57us/step - loss: 0.3098 - acc: 0.8778 - val_loss: 0.5855 - val_acc: 0.7642\n",
      "Epoch 75/100\n",
      "491/491 [==============================] - 0s 53us/step - loss: 0.3317 - acc: 0.8554 - val_loss: 0.5958 - val_acc: 0.7642\n",
      "Epoch 76/100\n",
      "491/491 [==============================] - 0s 55us/step - loss: 0.3485 - acc: 0.8554 - val_loss: 0.5946 - val_acc: 0.7480\n",
      "Epoch 77/100\n",
      "491/491 [==============================] - 0s 59us/step - loss: 0.3259 - acc: 0.8595 - val_loss: 0.5841 - val_acc: 0.7398\n",
      "Epoch 78/100\n",
      "491/491 [==============================] - 0s 49us/step - loss: 0.3294 - acc: 0.8615 - val_loss: 0.5818 - val_acc: 0.7317\n",
      "Epoch 79/100\n",
      "491/491 [==============================] - 0s 61us/step - loss: 0.3307 - acc: 0.8493 - val_loss: 0.5839 - val_acc: 0.7642\n",
      "Epoch 80/100\n",
      "491/491 [==============================] - 0s 71us/step - loss: 0.3333 - acc: 0.8595 - val_loss: 0.5852 - val_acc: 0.7480\n",
      "Epoch 81/100\n",
      "491/491 [==============================] - 0s 77us/step - loss: 0.3277 - acc: 0.8697 - val_loss: 0.5831 - val_acc: 0.7398\n",
      "Epoch 82/100\n",
      "491/491 [==============================] - 0s 77us/step - loss: 0.3188 - acc: 0.8717 - val_loss: 0.5845 - val_acc: 0.7398\n",
      "Epoch 83/100\n",
      "491/491 [==============================] - 0s 69us/step - loss: 0.3215 - acc: 0.8513 - val_loss: 0.5884 - val_acc: 0.7317\n",
      "Epoch 84/100\n",
      "491/491 [==============================] - 0s 67us/step - loss: 0.3283 - acc: 0.8635 - val_loss: 0.5850 - val_acc: 0.7561\n",
      "Epoch 85/100\n",
      "491/491 [==============================] - 0s 67us/step - loss: 0.3305 - acc: 0.8595 - val_loss: 0.5752 - val_acc: 0.7480\n",
      "Epoch 86/100\n",
      "491/491 [==============================] - 0s 67us/step - loss: 0.2926 - acc: 0.8758 - val_loss: 0.5819 - val_acc: 0.7480\n",
      "Epoch 87/100\n",
      "491/491 [==============================] - 0s 65us/step - loss: 0.3308 - acc: 0.8554 - val_loss: 0.5852 - val_acc: 0.7561\n",
      "Epoch 88/100\n",
      "491/491 [==============================] - 0s 63us/step - loss: 0.3190 - acc: 0.8554 - val_loss: 0.5910 - val_acc: 0.7480\n",
      "Epoch 89/100\n",
      "491/491 [==============================] - 0s 63us/step - loss: 0.3424 - acc: 0.8371 - val_loss: 0.5789 - val_acc: 0.7398\n",
      "Epoch 90/100\n",
      "491/491 [==============================] - 0s 65us/step - loss: 0.3012 - acc: 0.8839 - val_loss: 0.5891 - val_acc: 0.7642\n",
      "Epoch 91/100\n",
      "491/491 [==============================] - 0s 69us/step - loss: 0.3245 - acc: 0.8615 - val_loss: 0.6010 - val_acc: 0.7480\n",
      "Epoch 92/100\n",
      "491/491 [==============================] - 0s 63us/step - loss: 0.3358 - acc: 0.8615 - val_loss: 0.6070 - val_acc: 0.7724\n",
      "Epoch 93/100\n",
      "491/491 [==============================] - 0s 53us/step - loss: 0.3193 - acc: 0.8676 - val_loss: 0.6051 - val_acc: 0.7642\n",
      "Epoch 94/100\n",
      "491/491 [==============================] - 0s 67us/step - loss: 0.3141 - acc: 0.8595 - val_loss: 0.5958 - val_acc: 0.7317\n",
      "Epoch 95/100\n",
      "491/491 [==============================] - 0s 61us/step - loss: 0.3219 - acc: 0.8554 - val_loss: 0.6018 - val_acc: 0.7561\n",
      "Epoch 96/100\n",
      "491/491 [==============================] - 0s 59us/step - loss: 0.3301 - acc: 0.8656 - val_loss: 0.5984 - val_acc: 0.7642\n",
      "Epoch 97/100\n",
      "491/491 [==============================] - 0s 55us/step - loss: 0.3237 - acc: 0.8554 - val_loss: 0.5960 - val_acc: 0.7642\n",
      "Epoch 98/100\n",
      "491/491 [==============================] - 0s 61us/step - loss: 0.3151 - acc: 0.8737 - val_loss: 0.6072 - val_acc: 0.7724\n",
      "Epoch 99/100\n",
      "491/491 [==============================] - 0s 61us/step - loss: 0.3148 - acc: 0.8473 - val_loss: 0.5972 - val_acc: 0.7398\n",
      "Epoch 100/100\n",
      "491/491 [==============================] - 0s 69us/step - loss: 0.3045 - acc: 0.8839 - val_loss: 0.6031 - val_acc: 0.7561\n"
     ]
    },
    {
     "data": {
      "text/plain": [
       "<keras.callbacks.History at 0x3c674cc0>"
      ]
     },
     "execution_count": 561,
     "metadata": {},
     "output_type": "execute_result"
    }
   ],
   "source": [
    "# Fitting our model \n",
    "classifier.fit(X_train, y_train, batch_size = , epochs = 100, validation_data=[X_test,y_test])"
   ]
  },
  {
   "cell_type": "code",
   "execution_count": 562,
   "metadata": {},
   "outputs": [],
   "source": [
    "# Predicting the Test set results\n",
    "y_pred = classifier.predict_classes(final_test_data)"
   ]
  },
  {
   "cell_type": "code",
   "execution_count": 563,
   "metadata": {},
   "outputs": [],
   "source": [
    "submission_file_new = pd.DataFrame()\n",
    "submission_file_new['Loan_ID']=test_file['Loan_ID']\n",
    "submission_file_new['Loan_Status']=y_pred"
   ]
  },
  {
   "cell_type": "code",
   "execution_count": 564,
   "metadata": {},
   "outputs": [],
   "source": [
    "submission_file_new['Loan_Status_mod'] = ['Y' if x in [1]\n",
    "                                     else 'N' for x in submission_file_new['Loan_Status']]"
   ]
  },
  {
   "cell_type": "code",
   "execution_count": 565,
   "metadata": {},
   "outputs": [],
   "source": [
    "submission_file_new = submission_file_new[['Loan_ID','Loan_Status_mod']]\n",
    "submission_file_new.columns = ['Loan_ID','Loan_Status']"
   ]
  },
  {
   "cell_type": "code",
   "execution_count": 566,
   "metadata": {},
   "outputs": [],
   "source": [
    "submission_file_new.to_csv('submission_file_new_SEP25_neural.csv',index=False)"
   ]
  },
  {
   "cell_type": "code",
   "execution_count": null,
   "metadata": {},
   "outputs": [],
   "source": []
  },
  {
   "cell_type": "code",
   "execution_count": null,
   "metadata": {},
   "outputs": [],
   "source": []
  }
 ],
 "metadata": {
  "kernelspec": {
   "display_name": "Python 3",
   "language": "python",
   "name": "python3"
  },
  "language_info": {
   "codemirror_mode": {
    "name": "ipython",
    "version": 3
   },
   "file_extension": ".py",
   "mimetype": "text/x-python",
   "name": "python",
   "nbconvert_exporter": "python",
   "pygments_lexer": "ipython3",
   "version": "3.6.4"
  }
 },
 "nbformat": 4,
 "nbformat_minor": 2
}
